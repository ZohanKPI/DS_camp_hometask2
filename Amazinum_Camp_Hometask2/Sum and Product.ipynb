{
 "cells": [
  {
   "cell_type": "markdown",
   "id": "37126b15",
   "metadata": {},
   "source": [
    "# The task:\n",
    "\n",
    "There are two whole numbers:\n",
    "1 < a,b <100\n",
    "\n",
    "One scientist(\"Sum\") get provided with sum of numbers,\n",
    "another  (\"Prod\") get provided with product of numbers. \n",
    "Both scientists know that numbers 1 < a,b <100.\n",
    "\n",
    "Determine the numbers being based on the following dialog: \n",
    "    Prod: I don't know the numbers;\n",
    "    Sum: I know it;\n",
    "    Prod: then I know the numbers; \n",
    "    Sum: then I know the numbers too."
   ]
  },
  {
   "cell_type": "markdown",
   "id": "3466729f",
   "metadata": {},
   "source": [
    "# The solution:\n",
    "From the dialogue provided in the task we know that Prod does not know the numbers, because their product cannot be expressed with two prime numbers and it cannot be a product of two unique numbers, otherwise Prod would know the numbers. For example, number 12 cannot be a product of two unique numbers, since there are 2 number pairs satisfying the condition (2 and 6, 3 and 4), whereas number 10 can only be the multiplication result of 2 and 5. \n",
    "\n",
    "Sum knows it, which means that there are no two pairs that satisfy the condition that we have just established. For instance, if the sum is 7, it can have two possible number pairs (3 and 4, 2 and 5), and if we multiply those numbers we will get 12 and 10 respectively. Based on the previous example, 10 doesn't satisfy our condition, whereas 12 does. Simply said, ALL of the sum pairs should have non-unique products.\n",
    "\n",
    "Next step, Prod is able to guess that there's only one pair of numbers that satisfies the previous two conditions, therefore, he now knows the numbers.\n",
    "\n",
    "Lastly, Sum now knows the numbers based on Prod's response, so there is only one pair of numbers that satisfies all the previous conditions. The numbers should also be the same numbers Prod guessed in the previous statement.\n",
    "\n",
    "With analytical solution out of the way, let's get to the code:"
   ]
  },
  {
   "cell_type": "code",
   "execution_count": 5,
   "id": "1cb82856",
   "metadata": {},
   "outputs": [
    {
     "data": {
      "text/plain": [
       "[[2, 6], [3, 4]]"
      ]
     },
     "execution_count": 5,
     "metadata": {},
     "output_type": "execute_result"
    }
   ],
   "source": [
    "def check_prod(prod): # function to check product uniqueness (statement 1)\n",
    "    prod_result = []\n",
    "    \n",
    "    for i in range(2, int(prod**0.5) + 1):  # iterate up to the square root of prod\n",
    "        if prod % i == 0:\n",
    "            prod_result.append([i, prod // i])  # use integer division to ensure we get integer results\n",
    "\n",
    "    if len(prod_result) > 1:  # if there are more pairs than one, return the list; otherwise, return False\n",
    "        return prod_result  # is not unique\n",
    "    return False  # is unique\n",
    "\n",
    "\n",
    "check_prod(12)  # [2,6], [3,4] - not unique"
   ]
  },
  {
   "cell_type": "markdown",
   "id": "f1ba2d31",
   "metadata": {},
   "source": [
    "This function helps us check the uniqueness of a product. If a product is unique, the function returns False, but if it isn't, we get the list of all the possible product pairs."
   ]
  },
  {
   "cell_type": "code",
   "execution_count": 6,
   "id": "4d2520a4",
   "metadata": {},
   "outputs": [
    {
     "data": {
      "text/plain": [
       "[[2, 21],\n",
       " [3, 20],\n",
       " [4, 19],\n",
       " [5, 18],\n",
       " [6, 17],\n",
       " [7, 16],\n",
       " [8, 15],\n",
       " [9, 14],\n",
       " [10, 13],\n",
       " [11, 12]]"
      ]
     },
     "execution_count": 6,
     "metadata": {},
     "output_type": "execute_result"
    }
   ],
   "source": [
    "def check_sum(s, i=2): # function to check sum uniqueness (statement 2)\n",
    "    sum_result = []\n",
    "    while i <= s/2: \n",
    "        if not check_prod(i*(s-i)): # checking product for uniqueness\n",
    "            return False # one of the products is unique\n",
    "        sum_result.append([i, s - i])\n",
    "        i += 1\n",
    "    return sum_result # all products are not unique\n",
    "check_sum(23) # 42, 60, 76, 90, 102, 112, 120, 126, 130, 132 - all not unique"
   ]
  },
  {
   "cell_type": "markdown",
   "id": "538a3255",
   "metadata": {},
   "source": [
    "This function checks if a sum has any unique product pairs. Even if we see one unique product pair - it contradicts Sum's statement, because he sounds pretty confident about his knowledge. If there is even a single deviation - Prod could in theory guess the numbers, while in our case he has no idea, because the product he's provided with is not unique."
   ]
  },
  {
   "cell_type": "code",
   "execution_count": 7,
   "id": "692eb06b",
   "metadata": {},
   "outputs": [],
   "source": [
    "def check_one_prod(prod_result): # function to check one non-unique product (statement 3)\n",
    "    count_non_unique = 0\n",
    "    for item in prod_result: \n",
    "        if check_sum(item[0] + item[1]): # checking statement 2 \n",
    "            count_non_unique += 1\n",
    "            if count_non_unique > 1:  # If there's more than one non-unique sum\n",
    "                return False\n",
    "\n",
    "    if count_non_unique == 1:  # If there's exactly one non-unique sum\n",
    "        return True\n",
    "\n",
    "    return False"
   ]
  },
  {
   "cell_type": "markdown",
   "id": "91e45871",
   "metadata": {},
   "source": [
    "This is where we check statement 3, so essentially we are only looking for products that have one non-unique sum, that satisfies previous two conditions. If there is more than one or no possible sums at all, the function returns False, but if there's exactly one - here's our answer. "
   ]
  },
  {
   "cell_type": "code",
   "execution_count": 13,
   "id": "562f60b4",
   "metadata": {},
   "outputs": [],
   "source": [
    "def check_one_sum(sum_result): # function to check one non-unique sum (statement 4)\n",
    "    sum_numbers = []\n",
    "    for item in sum_result:\n",
    "        if check_prod(item[0] * item[1]): # checking statement 1\n",
    "            sum_numbers.append(item)\n",
    "    \n",
    "    count_non_unique = 0\n",
    "    for pair in sum_numbers:\n",
    "        if check_sum(pair[0] + pair[1]): # checking statement 2\n",
    "            count_non_unique += 1\n",
    "            if count_non_unique > 1: # If there's more than one non-unique product\n",
    "                return False\n",
    "\n",
    "    if count_non_unique == 1: # If there's more than one non-unique product\n",
    "        return True\n",
    "\n",
    "    return False\n"
   ]
  },
  {
   "cell_type": "markdown",
   "id": "8461caa1",
   "metadata": {},
   "source": [
    "Finally, this is where we check statement 4, here we are doing the same thing as in previous function, but vice versa: we need to find the numbers from Sum's perspective, because he now has the information that there's only one possible sum-product pair that satisfies all the previous conditions."
   ]
  },
  {
   "cell_type": "code",
   "execution_count": 15,
   "id": "0856f314",
   "metadata": {},
   "outputs": [
    {
     "name": "stdout",
     "output_type": "stream",
     "text": [
      "[]\n"
     ]
    }
   ],
   "source": [
    "def find_valid_pairs():\n",
    "    valid_pairs = []\n",
    "\n",
    "    for a in range(2, 100):\n",
    "        for b in range(a, 100):  # to avoid duplication (a, b) vs (b, a)\n",
    "            \n",
    "            # calculate Sum and Product\n",
    "            S, P = a + b, a * b\n",
    "            \n",
    "            # check the four statements\n",
    "            if check_prod(P):\n",
    "                if check_sum(S):\n",
    "                    if check_one_prod(check_prod(P)):\n",
    "                        if check_one_sum(check_sum(S)):\n",
    "                            valid_pairs.append((a, b))\n",
    "                        \n",
    "\n",
    "    return valid_pairs\n",
    "\n",
    "# Testing the function\n",
    "print(find_valid_pairs())"
   ]
  }
 ],
 "metadata": {
  "kernelspec": {
   "display_name": "Python 3 (ipykernel)",
   "language": "python",
   "name": "python3"
  },
  "language_info": {
   "codemirror_mode": {
    "name": "ipython",
    "version": 3
   },
   "file_extension": ".py",
   "mimetype": "text/x-python",
   "name": "python",
   "nbconvert_exporter": "python",
   "pygments_lexer": "ipython3",
   "version": "3.11.5"
  }
 },
 "nbformat": 4,
 "nbformat_minor": 5
}
