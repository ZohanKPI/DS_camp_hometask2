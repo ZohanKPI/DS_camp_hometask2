{
 "cells": [
  {
   "cell_type": "markdown",
   "id": "37126b15",
   "metadata": {},
   "source": [
    "# The task:\n",
    "\n",
    "There are two whole numbers:\n",
    "1 < a,b <100\n",
    "\n",
    "One scientist(\"Sum\") get provided with sum of numbers,\n",
    "another  (\"Prod\") get provided with product of numbers. \n",
    "Both scientists know that numbers 1 < a,b <100.\n",
    "\n",
    "Determine the numbers being based on the following dialog: \n",
    "    Prod: I don't know the numbers;\n",
    "    Sum: I know it;\n",
    "    Prod: then I know the numbers; \n",
    "    Sum: then I know the numbers too."
   ]
  },
  {
   "cell_type": "markdown",
   "id": "3466729f",
   "metadata": {},
   "source": [
    "# The solution:\n",
    "From the dialogue provided in the task we know that Prod does not know the numbers, because their product cannot be expressed with two prime numbers and it cannot be a product of two unique numbers, otherwise Prod would know the numbers. For example, number 12 cannot be a product of two unique numbers, since there are 2 number pairs satisfying the condition (2 and 6, 3 and 4), whereas number 10 can only be the multiplication result of 2 and 5. \n",
    "\n",
    "Sum knows it, which means that there are no two pairs that satisfy the condition that we have just established. For instance, if the sum is 7, it can have two possible number pairs (3 and 4, 2 and 5), and if we multiply those numbers we will get 12 and 10 respectively. Based on the previous example, 10 doesn't satisfy our condition, whereas 12 does. Simply said, ALL of the sum pairs should have non-unique products.\n",
    "\n",
    "Next step, Prod is able to guess that there's only one pair of numbers that satisfies the previous two conditions, therefore, he now knows the numbers.\n",
    "\n",
    "Lastly, Sum now knows the numbers based on Prod's response, so there is only one pair of numbers that satisfies all the previous conditions. The numbers should also be the same numbers Prod guessed in the previous statement.\n",
    "\n",
    "With analytical solution out of the way, let's get to the code:"
   ]
  },
  {
   "cell_type": "code",
   "execution_count": 1,
   "id": "1cb82856",
   "metadata": {},
   "outputs": [
    {
     "name": "stdout",
     "output_type": "stream",
     "text": [
      "[(4, 13)]\n"
     ]
    }
   ],
   "source": [
    "# Define a function to decompose a sum into pairs of numbers\n",
    "def decompose_sum(s):\n",
    "    return [(a,s-a) for a in range(2,int(s/2+1))]\n",
    "\n",
    "# Generate all possible pairs of numbers between 2 and 99\n",
    "all_pairs = set((a,b) for a in range(2,100) for b in range(a+1,100) if a+b<100)\n",
    "\n",
    "# Step 1. Select pairs for which all sum decompositions have non-unique product\n",
    "# Count the number of times each product appears in the list of all pairs\n",
    "product_counts = {}\n",
    "for pair in all_pairs:\n",
    "    product = pair[0] * pair[1]\n",
    "    if product in product_counts:\n",
    "        product_counts[product] += 1\n",
    "    else:\n",
    "        product_counts[product] = 1\n",
    "\n",
    "# Find the set of pairs for which the product appears only once\n",
    "unique_products = set((a,b) for a,b in all_pairs if product_counts[a*b]==1)\n",
    "\n",
    "# Select the pairs for which all sum decompositions have non-unique product\n",
    "s_pairs = [(a,b) for a,b in all_pairs if\n",
    "    all((x,y) not in unique_products for (x,y) in decompose_sum(a+b))]\n",
    "\n",
    "# Step 2. Select pairs for which the product is unique\n",
    "# Count the number of times each product appears in the list of s_pairs\n",
    "product_counts = {}\n",
    "for pair in s_pairs:\n",
    "    product = pair[0] * pair[1]\n",
    "    if product in product_counts:\n",
    "        product_counts[product] += 1\n",
    "    else:\n",
    "        product_counts[product] = 1\n",
    "\n",
    "# Select the pairs for which the product appears only once\n",
    "p_pairs = [(a,b) for a,b in s_pairs if product_counts[a*b]==1]\n",
    "\n",
    "# Step 3. Select pairs for which the sum is unique\n",
    "# Count the number of times each sum appears in the list of p_pairs\n",
    "sum_counts = {}\n",
    "for pair in p_pairs:\n",
    "    s = pair[0] + pair[1]\n",
    "    if s in sum_counts:\n",
    "        sum_counts[s] += 1\n",
    "    else:\n",
    "        sum_counts[s] = 1\n",
    "\n",
    "# Select the pairs for which the sum appears only once\n",
    "final_pairs = [(a,b) for a,b in p_pairs if sum_counts[a+b]==1]\n",
    "\n",
    "print(final_pairs)"
   ]
  },
  {
   "cell_type": "markdown",
   "id": "82e910c3",
   "metadata": {},
   "source": [
    "So, the number pair we got is 4 and 13 - and it looks like the right answer. The product is 52, which is non-unique, and the sum is 17, which contains number pairs that only result in non-unique products. "
   ]
  },
  {
   "cell_type": "code",
   "execution_count": null,
   "id": "d62a2572",
   "metadata": {},
   "outputs": [],
   "source": []
  }
 ],
 "metadata": {
  "kernelspec": {
   "display_name": "Python 3 (ipykernel)",
   "language": "python",
   "name": "python3"
  },
  "language_info": {
   "codemirror_mode": {
    "name": "ipython",
    "version": 3
   },
   "file_extension": ".py",
   "mimetype": "text/x-python",
   "name": "python",
   "nbconvert_exporter": "python",
   "pygments_lexer": "ipython3",
   "version": "3.11.5"
  }
 },
 "nbformat": 4,
 "nbformat_minor": 5
}
